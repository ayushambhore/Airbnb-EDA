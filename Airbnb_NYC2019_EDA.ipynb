{
  "nbformat": 4,
  "nbformat_minor": 0,
  "metadata": {
    "colab": {
      "private_outputs": true,
      "provenance": [],
      "collapsed_sections": [
        "vncDsAP0Gaoa",
        "FJNUwmbgGyua",
        "w6K7xa23Elo4",
        "yQaldy8SH6Dl",
        "PH-0ReGfmX4f",
        "mDgbUHAGgjLW",
        "O_i_v8NEhb9l",
        "HhfV-JJviCcP",
        "Y3lxredqlCYt",
        "3RnN4peoiCZX",
        "x71ZqKXriCWQ",
        "7hBIi_osiCS2",
        "JlHwYmJAmNHm",
        "35m5QtbWiB9F",
        "PoPl-ycgm1ru",
        "H0kj-8xxnORC",
        "nA9Y7ga8ng1Z",
        "PBTbrJXOngz2",
        "u3PMJOP6ngxN",
        "dauF4eBmngu3",
        "bKJF3rekwFvQ",
        "MSa1f5Uengrz",
        "GF8Ens_Soomf",
        "0wOQAZs5pc--",
        "K5QZ13OEpz2H",
        "lQ7QKXXCp7Bj",
        "448CDAPjqfQr",
        "KSlN3yHqYklG",
        "t6dVpIINYklI",
        "ijmpgYnKYklI",
        "-JiQyfWJYklI",
        "EM7whBJCYoAo",
        "fge-S5ZAYoAp",
        "85gYPyotYoAp",
        "RoGjAbkUYoAp",
        "4Of9eVA-YrdM",
        "iky9q4vBYrdO",
        "F6T5p64dYrdO",
        "y-Ehk30pYrdP",
        "bamQiAODYuh1",
        "QHF8YVU7Yuh3",
        "GwzvFGzlYuh3",
        "qYpmQ266Yuh3",
        "OH-pJp9IphqM",
        "bbFf2-_FphqN",
        "_ouA3fa0phqN",
        "Seke61FWphqN",
        "PIIx-8_IphqN",
        "t27r6nlMphqO",
        "r2jJGEOYphqO",
        "b0JNsNcRphqO",
        "BZR9WyysphqO",
        "jj7wYXLtphqO",
        "eZrbJ2SmphqO",
        "rFu4xreNphqO",
        "YJ55k-q6phqO",
        "gCFgpxoyphqP",
        "OVtJsKN_phqQ",
        "lssrdh5qphqQ",
        "U2RJ9gkRphqQ",
        "1M8mcRywphqQ",
        "tgIPom80phqQ",
        "JMzcOPDDphqR",
        "x-EpHcCOp1ci",
        "X_VqEhTip1ck",
        "8zGJKyg5p1ck",
        "PVzmfK_Ep1ck",
        "n3dbpmDWp1ck",
        "ylSl6qgtp1ck",
        "ZWILFDl5p1ck",
        "M7G43BXep1ck",
        "Ag9LCva-p1cl",
        "E6MkPsBcp1cl",
        "2cELzS2fp1cl",
        "3MPXvC8up1cl",
        "NC_X3p0fY2L0",
        "UV0SzAkaZNRQ",
        "YPEH6qLeZNRQ",
        "q29F0dvdveiT",
        "EXh0U9oCveiU",
        "22aHeOlLveiV",
        "JcMwzZxoAimU",
        "8G2x9gOozGDZ",
        "gCX9965dhzqZ",
        "gIfDvo9L0UH2"
      ],
      "include_colab_link": true
    },
    "kernelspec": {
      "name": "python3",
      "display_name": "Python 3"
    },
    "language_info": {
      "name": "python"
    }
  },
  "cells": [
    {
      "cell_type": "markdown",
      "metadata": {
        "id": "view-in-github",
        "colab_type": "text"
      },
      "source": [
        "<a href=\"https://colab.research.google.com/github/ayushambhore/Airbnb-EDA/blob/main/Airbnb_NYC2019_EDA.ipynb\" target=\"_parent\"><img src=\"https://colab.research.google.com/assets/colab-badge.svg\" alt=\"Open In Colab\"/></a>"
      ]
    },
    {
      "cell_type": "markdown",
      "source": [
        "# **Project Name**    - Airbnb NYC 2019 EDA\n",
        "\n"
      ],
      "metadata": {
        "id": "vncDsAP0Gaoa"
      }
    },
    {
      "cell_type": "markdown",
      "source": [
        "##### **Project Type**    - EDA\n",
        "##### **Contribution**    - Individual\n",
        "##### **Name - Ayush Ambhore**\n"
      ],
      "metadata": {
        "id": "beRrZCGUAJYm"
      }
    },
    {
      "cell_type": "markdown",
      "source": [
        "# **Project Summary -**"
      ],
      "metadata": {
        "id": "FJNUwmbgGyua"
      }
    },
    {
      "cell_type": "markdown",
      "source": [
        "Write the summary here within 500-600 words."
      ],
      "metadata": {
        "id": "F6v_1wHtG2nS"
      }
    },
    {
      "cell_type": "markdown",
      "source": [
        "# **GitHub Link -**"
      ],
      "metadata": {
        "id": "w6K7xa23Elo4"
      }
    },
    {
      "cell_type": "markdown",
      "source": [
        "Link - https://github.com/ayushambhore/Airbnb-EDA"
      ],
      "metadata": {
        "id": "h1o69JH3Eqqn"
      }
    },
    {
      "cell_type": "markdown",
      "source": [
        "# **Problem Statement**\n"
      ],
      "metadata": {
        "id": "yQaldy8SH6Dl"
      }
    },
    {
      "cell_type": "markdown",
      "source": [
        "**Write Problem Statement Here.**"
      ],
      "metadata": {
        "id": "DpeJGUA3kjGy"
      }
    },
    {
      "cell_type": "markdown",
      "source": [
        "#### **Define Your Business Objective?**"
      ],
      "metadata": {
        "id": "PH-0ReGfmX4f"
      }
    },
    {
      "cell_type": "markdown",
      "source": [
        "Answer Here."
      ],
      "metadata": {
        "id": "PhDvGCAqmjP1"
      }
    },
    {
      "cell_type": "markdown",
      "source": [
        "# **General Guidelines** : -  "
      ],
      "metadata": {
        "id": "mDgbUHAGgjLW"
      }
    },
    {
      "cell_type": "markdown",
      "source": [
        "1.   Well-structured, formatted, and commented code is required. \n",
        "2.   Exception Handling, Production Grade Code & Deployment Ready Code will be a plus. Those students will be awarded some additional credits. \n",
        "     \n",
        "     The additional credits will have advantages over other students during Star Student selection.\n",
        "       \n",
        "             [ Note: - Deployment Ready Code is defined as, the whole .ipynb notebook should be executable in one go\n",
        "                       without a single error logged. ]\n",
        "\n",
        "3.   Each and every logic should have proper comments.\n",
        "4. You may add as many number of charts you want. Make Sure for each and every chart the following format should be answered.\n",
        "        \n",
        "\n",
        "```\n",
        "# Chart visualization code\n",
        "```\n",
        "            \n",
        "\n",
        "*   Why did you pick the specific chart?\n",
        "*   What is/are the insight(s) found from the chart?\n",
        "* Will the gained insights help creating a positive business impact? \n",
        "Are there any insights that lead to negative growth? Justify with specific reason.\n",
        "\n",
        "5. You have to create at least 20 logical & meaningful charts having important insights.\n",
        "\n",
        "\n",
        "[ Hints : - Do the Vizualization in  a structured way while following \"UBM\" Rule. \n",
        "\n",
        "U - Univariate Analysis,\n",
        "\n",
        "B - Bivariate Analysis (Numerical - Categorical, Numerical - Numerical, Categorical - Categorical)\n",
        "\n",
        "M - Multivariate Analysis\n",
        " ]\n",
        "\n",
        "\n",
        "\n"
      ],
      "metadata": {
        "id": "ZrxVaUj-hHfC"
      }
    },
    {
      "cell_type": "markdown",
      "source": [
        "# ***Let's Begin !***"
      ],
      "metadata": {
        "id": "O_i_v8NEhb9l"
      }
    },
    {
      "cell_type": "markdown",
      "source": [
        "## ***1. Know Your Data***"
      ],
      "metadata": {
        "id": "HhfV-JJviCcP"
      }
    },
    {
      "cell_type": "markdown",
      "source": [
        "### Import Libraries"
      ],
      "metadata": {
        "id": "Y3lxredqlCYt"
      }
    },
    {
      "cell_type": "code",
      "source": [
        "#import library\n",
        "import pandas as pd # data processing, CSV file I/O (e.g. pd.read_csv)\n",
        "import numpy as np # linear algebra\n",
        "import matplotlib.pyplot as plt\n",
        "import seaborn as sns  # visualization tool"
      ],
      "metadata": {
        "id": "M8Vqi-pPk-HR"
      },
      "execution_count": null,
      "outputs": []
    },
    {
      "cell_type": "markdown",
      "source": [
        "### Dataset Loading"
      ],
      "metadata": {
        "id": "3RnN4peoiCZX"
      }
    },
    {
      "cell_type": "code",
      "source": [
        "# Load Dataset\n",
        "url = 'https://raw.githubusercontent.com/ayushambhore/Airbnb-EDA/main/Airbnb%20NYC%202019.csv'\n",
        "df = pd.read_csv(url,encoding='unicode_escape')"
      ],
      "metadata": {
        "id": "4CkvbW_SlZ_R"
      },
      "execution_count": null,
      "outputs": []
    },
    {
      "cell_type": "markdown",
      "source": [
        "### Dataset First View"
      ],
      "metadata": {
        "id": "x71ZqKXriCWQ"
      }
    },
    {
      "cell_type": "code",
      "source": [
        "# Dataset First Look\n",
        "df.sample(10)"
      ],
      "metadata": {
        "id": "LWNFOSvLl09H"
      },
      "execution_count": null,
      "outputs": []
    },
    {
      "cell_type": "markdown",
      "source": [
        "### Dataset Rows & Columns count"
      ],
      "metadata": {
        "id": "7hBIi_osiCS2"
      }
    },
    {
      "cell_type": "code",
      "source": [
        "# Dataset Rows & Columns count\n",
        "print(f' Row count = {df.shape[0]}\\n Column count = {df.shape[1]}')"
      ],
      "metadata": {
        "id": "Kllu7SJgmLij"
      },
      "execution_count": null,
      "outputs": []
    },
    {
      "cell_type": "markdown",
      "source": [
        "### Dataset Information"
      ],
      "metadata": {
        "id": "JlHwYmJAmNHm"
      }
    },
    {
      "cell_type": "code",
      "source": [
        "# Dataset Info\n",
        "df.info()"
      ],
      "metadata": {
        "id": "e9hRXRi6meOf"
      },
      "execution_count": null,
      "outputs": []
    },
    {
      "cell_type": "markdown",
      "source": [
        "#### Duplicate Values"
      ],
      "metadata": {
        "id": "35m5QtbWiB9F"
      }
    },
    {
      "cell_type": "code",
      "source": [
        "# Dataset Duplicate Value Count\n",
        "len(df[df.duplicated()])"
      ],
      "metadata": {
        "id": "1sLdpKYkmox0"
      },
      "execution_count": null,
      "outputs": []
    },
    {
      "cell_type": "markdown",
      "source": [
        "#### Missing Values/Null Values"
      ],
      "metadata": {
        "id": "PoPl-ycgm1ru"
      }
    },
    {
      "cell_type": "code",
      "source": [
        "# Missing Values/Null Values \n",
        "print(df.isnull().sum())"
      ],
      "metadata": {
        "id": "GgHWkxvamxVg"
      },
      "execution_count": null,
      "outputs": []
    },
    {
      "cell_type": "code",
      "source": [
        "print(df.isnull().sum().sum())"
      ],
      "metadata": {
        "id": "SePFBLy20OdV"
      },
      "execution_count": null,
      "outputs": []
    },
    {
      "cell_type": "code",
      "source": [
        "# Visualizing the missing values\n",
        "sns.heatmap(df.isnull(), cbar=False);"
      ],
      "metadata": {
        "id": "3q5wnI3om9sJ"
      },
      "execution_count": null,
      "outputs": []
    },
    {
      "cell_type": "markdown",
      "source": [
        "### What did you know about your dataset?"
      ],
      "metadata": {
        "id": "H0kj-8xxnORC"
      }
    },
    {
      "cell_type": "markdown",
      "source": [
        "The dataset is airbnb data of newyork 2019. The data have 16 columns and 48895 rows. The data have 20141 null values (name have 16 null values, host_name have 21 null values and last_review and reviews_per_month have 10052 null values each. The data have no duplicate rows."
      ],
      "metadata": {
        "id": "gfoNAAC-nUe_"
      }
    },
    {
      "cell_type": "markdown",
      "source": [
        "## ***2. Understanding Your Variables***"
      ],
      "metadata": {
        "id": "nA9Y7ga8ng1Z"
      }
    },
    {
      "cell_type": "code",
      "source": [
        "# Dataset Columns\n",
        "df.columns"
      ],
      "metadata": {
        "id": "j7xfkqrt5Ag5"
      },
      "execution_count": null,
      "outputs": []
    },
    {
      "cell_type": "code",
      "source": [
        "# Dataset Describe\n",
        "df.describe(include='all')"
      ],
      "metadata": {
        "id": "DnOaZdaE5Q5t"
      },
      "execution_count": null,
      "outputs": []
    },
    {
      "cell_type": "markdown",
      "source": [
        "### Variables Description "
      ],
      "metadata": {
        "id": "PBTbrJXOngz2"
      }
    },
    {
      "cell_type": "markdown",
      "source": [
        "1. id = unique ID\n",
        "2. name = name of the listing\n",
        "3. host_id = unique host ID\n",
        "4. host_name = Name of the host\n",
        "5. neighbourhood_group = location\n",
        "6. latitude = Latitude range\n",
        "7. longitude = Lpngitude range\n",
        "8. room_type = Type of listing\n",
        "9. price = price of listing\n",
        "10. minimum_nights = minimum nights to be paid for\n",
        "11. Number_of_reviews = Number of reviews\n",
        "12. last_review = Content of the last review\n",
        "13. reviews_per_month = Number of checks per month\n",
        "14. calculated_host_listings_count= Total number of times host made listing\n",
        "15. availability_365 = availability around the year"
      ],
      "metadata": {
        "id": "aJV4KIxSnxay"
      }
    },
    {
      "cell_type": "markdown",
      "source": [
        "### Check Unique Values for each variable."
      ],
      "metadata": {
        "id": "u3PMJOP6ngxN"
      }
    },
    {
      "cell_type": "code",
      "source": [
        "# Check Unique Values for each variable.\n",
        "for i in df.columns.tolist():\n",
        "  print(\"No. of unique values in \",i,\"is\",df[i].nunique(),\".\")"
      ],
      "metadata": {
        "id": "zms12Yq5n-jE"
      },
      "execution_count": null,
      "outputs": []
    },
    {
      "cell_type": "markdown",
      "source": [
        "## 3. ***Data Wrangling***"
      ],
      "metadata": {
        "id": "dauF4eBmngu3"
      }
    },
    {
      "cell_type": "markdown",
      "source": [
        "### Data Wrangling Code"
      ],
      "metadata": {
        "id": "bKJF3rekwFvQ"
      }
    },
    {
      "cell_type": "markdown",
      "source": [
        "### **Null values**"
      ],
      "metadata": {
        "id": "MoOI7e4P6lYs"
      }
    },
    {
      "cell_type": "markdown",
      "source": [
        "As we saw earlier name column has 16 missing values, host_name column has 21 missing values and last_review and review_per_month both has 10052 missing values."
      ],
      "metadata": {
        "id": "1Efz6yaS6qX8"
      }
    },
    {
      "cell_type": "markdown",
      "source": [
        "1. As the name column contains 16 null values we will simply drop these rows as it is not a huge chunk of data . \n",
        "Similarly we will drop host_name null values rows."
      ],
      "metadata": {
        "id": "JHyUQ0E36uBR"
      }
    },
    {
      "cell_type": "code",
      "source": [
        "df=df[df['name'].notna()]\n",
        "df=df[df['host_name'].notna()]\n",
        "\n",
        "df.shape"
      ],
      "metadata": {
        "id": "wk-9a2fpoLcV"
      },
      "execution_count": null,
      "outputs": []
    },
    {
      "cell_type": "markdown",
      "source": [
        "2. The columns- last review and review_per_month have 10052 missing values."
      ],
      "metadata": {
        "id": "mQgxLqMo60mH"
      }
    },
    {
      "cell_type": "code",
      "source": [
        "print(f'These missing values contains {round((10052/df.shape[0])*100,2)}% of data')"
      ],
      "metadata": {
        "id": "_8TPB3_z65Ta"
      },
      "execution_count": null,
      "outputs": []
    },
    {
      "cell_type": "markdown",
      "source": [
        "we will drop these both columns as they are not useful for our study."
      ],
      "metadata": {
        "id": "C1O55-42695u"
      }
    },
    {
      "cell_type": "code",
      "source": [
        "df.drop(['last_review','reviews_per_month'], axis=1)"
      ],
      "metadata": {
        "id": "2zmNjetr7Eur"
      },
      "execution_count": null,
      "outputs": []
    },
    {
      "cell_type": "markdown",
      "source": [
        "### What all manipulations have you done and insights you found?"
      ],
      "metadata": {
        "id": "MSa1f5Uengrz"
      }
    },
    {
      "cell_type": "markdown",
      "source": [
        "1. The columns name and host_name contained some null values so i have deleted those rows as it didnt consist of major data.\n",
        "2. Dropped the last_review and reviews_per_month columns as the null values contained 20% of the data and the columns was not required for the further study.\n",
        "3. Now the data have 48858 rows and 14 columns."
      ],
      "metadata": {
        "id": "LbyXE7I1olp8"
      }
    },
    {
      "cell_type": "markdown",
      "source": [
        "## ***4. Data Vizualization, Storytelling & Experimenting with charts : Understand the relationships between variables***"
      ],
      "metadata": {
        "id": "GF8Ens_Soomf"
      }
    },
    {
      "cell_type": "markdown",
      "source": [
        "#### Chart - 1: **PIE CHART** on Distribution of room type  "
      ],
      "metadata": {
        "id": "0wOQAZs5pc--"
      }
    },
    {
      "cell_type": "code",
      "source": [
        "df['room_type'].value_counts()"
      ],
      "metadata": {
        "id": "7v_ESjsspbW7"
      },
      "execution_count": null,
      "outputs": []
    },
    {
      "cell_type": "code",
      "source": [
        "data = df['room_type'].value_counts() \n",
        "\n",
        "labels = ['Entire home/apt', 'Private room','Shared room']\n",
        "\n",
        "plt.figure(figsize=(10,10))\n",
        "colors = ['#47B39C',\"#FFC154\",\"#EC6B56\"]\n",
        "explode=(0.01,0.01,0.1)\n",
        "\n",
        "plt.pie(data, labels = labels,\n",
        "        colors = colors,\n",
        "        autopct='%.2f%%',\n",
        "        explode=explode,\n",
        "        textprops={'fontsize': 15})\n",
        "\n",
        "plt.title('Distribution of Room Type',\n",
        "          size=15,\n",
        "          loc='center',\n",
        "          pad=12)\n",
        "\n",
        "plt.legend();"
      ],
      "metadata": {
        "id": "-9lyuL0ZBeD_"
      },
      "execution_count": null,
      "outputs": []
    },
    {
      "cell_type": "markdown",
      "source": [
        "##### 1. Why did you pick the specific chart?"
      ],
      "metadata": {
        "id": "K5QZ13OEpz2H"
      }
    },
    {
      "cell_type": "markdown",
      "source": [
        "Pie chart easily explains the percentage comparison through area covered in a circle with different colors. Where differenet percentage comparison comes into action pie chart is used frequently. So, I used Pie chart and which helped me to get the percentage comparision of the dependant variable."
      ],
      "metadata": {
        "id": "XESiWehPqBRc"
      }
    },
    {
      "cell_type": "markdown",
      "source": [
        "##### 2. What is/are the insight(s) found from the chart?"
      ],
      "metadata": {
        "id": "lQ7QKXXCp7Bj"
      }
    },
    {
      "cell_type": "markdown",
      "source": [
        "From the above chart i got to know that 51.97% listings are Entire Home/Apt while 45.65% are Private room and the rest 2.37% are shared room."
      ],
      "metadata": {
        "id": "C_j1G7yiqdRP"
      }
    },
    {
      "cell_type": "markdown",
      "source": [
        "##### 3. Will the gained insights help creating a positive business impact? \n",
        "Are there any insights that lead to negative growth? Justify with specific reason."
      ],
      "metadata": {
        "id": "448CDAPjqfQr"
      }
    },
    {
      "cell_type": "markdown",
      "source": [
        "The hotel owners should focus more on entire flats and private rooms . and they can do cost cuttings in shared rooms as people are not preferring shared room.\n",
        "\n",
        "There can be a negative impact if in future the demand for shared room increases."
      ],
      "metadata": {
        "id": "3cspy4FjqxJW"
      }
    },
    {
      "cell_type": "markdown",
      "source": [
        "#### Chart - 2: **BARPLOT** on Frequency of hotel listings vs Area"
      ],
      "metadata": {
        "id": "KSlN3yHqYklG"
      }
    },
    {
      "cell_type": "code",
      "source": [
        "x_param1 =df['neighbourhood_group'].value_counts().keys()\n",
        "y_param1 =df['neighbourhood_group'].value_counts().values"
      ],
      "metadata": {
        "id": "R4YgtaqtYklH"
      },
      "execution_count": null,
      "outputs": []
    },
    {
      "cell_type": "code",
      "source": [
        "plt.figure(figsize=(20,10))\n",
        "sns.set(font_scale=2)\n",
        "\n",
        "plt.xlabel('Area',size=25)\n",
        "plt.ylabel('No of Listings',size=25)\n",
        "\n",
        "graph = sns.barplot(x = x_param1,\n",
        "                    y = y_param1 ,\n",
        "                    linewidth=2,\n",
        "                    palette= \"tab10\")\n",
        "\n",
        "graph.set_title(\"Frequency of hotel listings vs Area\",\n",
        "                size=35,\n",
        "                pad=12);"
      ],
      "metadata": {
        "id": "jAcp1Mf3F72H"
      },
      "execution_count": null,
      "outputs": []
    },
    {
      "cell_type": "markdown",
      "source": [
        "##### 1. Why did you pick the specific chart?"
      ],
      "metadata": {
        "id": "t6dVpIINYklI"
      }
    },
    {
      "cell_type": "markdown",
      "source": [
        "Bar charts show the frequency counts of values for the different levels of a categorical or nominal variable. "
      ],
      "metadata": {
        "id": "5aaW0BYyYklI"
      }
    },
    {
      "cell_type": "markdown",
      "source": [
        "##### 2. What is/are the insight(s) found from the chart?"
      ],
      "metadata": {
        "id": "ijmpgYnKYklI"
      }
    },
    {
      "cell_type": "markdown",
      "source": [
        "We can clearly see that Manhattan and brooklyn are the most popular for for hotel listing with more that 2000 hotel listings done in 2019 and staten island is the least popular with less than 500 listings ."
      ],
      "metadata": {
        "id": "PSx9atu2YklI"
      }
    },
    {
      "cell_type": "markdown",
      "source": [
        "##### 3. Will the gained insights help creating a positive business impact? \n",
        "Are there any insights that lead to negative growth? Justify with specific reason."
      ],
      "metadata": {
        "id": "-JiQyfWJYklI"
      }
    },
    {
      "cell_type": "markdown",
      "source": [
        "The new hotel owners should build their hotels in the more populare area and should avoid the least popular area for better business."
      ],
      "metadata": {
        "id": "BcBbebzrYklV"
      }
    },
    {
      "cell_type": "markdown",
      "source": [
        "#### Chart - 3: **BARPLOT** on top 20 Popular Locations"
      ],
      "metadata": {
        "id": "EM7whBJCYoAo"
      }
    },
    {
      "cell_type": "code",
      "source": [
        "x_param2 =df['neighbourhood'].value_counts().keys()[:20]\n",
        "y_param2 =df['neighbourhood'].value_counts().values[:20]"
      ],
      "metadata": {
        "id": "t6GMdE67YoAp"
      },
      "execution_count": null,
      "outputs": []
    },
    {
      "cell_type": "code",
      "source": [
        "plt.figure(figsize=(20,10))\n",
        "sns.set(font_scale=2)\n",
        "\n",
        "plt.xlabel('No of Listings',size=25)\n",
        "plt.ylabel('Location',size=25)\n",
        "\n",
        "graph = sns.barplot(y = x_param2,\n",
        "                    x = y_param2 ,\n",
        "                    linewidth=2,\n",
        "                    palette= \"tab10\")\n",
        "\n",
        "graph.set_title(\"Top 20 Popular Locations\",\n",
        "                size=30,\n",
        "                pad=12);"
      ],
      "metadata": {
        "id": "OawwqWj4K6PI"
      },
      "execution_count": null,
      "outputs": []
    },
    {
      "cell_type": "markdown",
      "source": [
        "##### 1. Why did you pick the specific chart?"
      ],
      "metadata": {
        "id": "fge-S5ZAYoAp"
      }
    },
    {
      "cell_type": "markdown",
      "source": [
        "Bar charts show the frequency counts of values for the different levels of a categorical or nominal variable."
      ],
      "metadata": {
        "id": "5dBItgRVYoAp"
      }
    },
    {
      "cell_type": "markdown",
      "source": [
        "##### 2. What is/are the insight(s) found from the chart?"
      ],
      "metadata": {
        "id": "85gYPyotYoAp"
      }
    },
    {
      "cell_type": "markdown",
      "source": [
        "As we can see The most popluar location for hotel listings in Williamsburg"
      ],
      "metadata": {
        "id": "4jstXR6OYoAp"
      }
    },
    {
      "cell_type": "markdown",
      "source": [
        "##### 3. Will the gained insights help creating a positive business impact? \n",
        "Are there any insights that lead to negative growth? Justify with specific reason."
      ],
      "metadata": {
        "id": "RoGjAbkUYoAp"
      }
    },
    {
      "cell_type": "markdown",
      "source": [
        "The new hotel owners and builders should focus more on these 20 Locations."
      ],
      "metadata": {
        "id": "zfJ8IqMcYoAp"
      }
    },
    {
      "cell_type": "markdown",
      "source": [
        "#### Chart - 4: **HISTOGRAM** on Minimum nights vs Listings"
      ],
      "metadata": {
        "id": "4Of9eVA-YrdM"
      }
    },
    {
      "cell_type": "code",
      "source": [
        "plt.figure(figsize=(20,10))\n",
        "sns.set(font_scale=2)\n",
        "sns.set(style=\"darkgrid\")\n",
        "\n",
        "graph=sns.histplot(data = df,\n",
        "                   x= \"availability_365\",\n",
        "                   color = 'navy',\n",
        "                   kde=True)\n",
        "graph.set_title(\"Availability vs Listings\",\n",
        "                size=25,\n",
        "                pad=12);"
      ],
      "metadata": {
        "id": "irlUoxc8YrdO"
      },
      "execution_count": null,
      "outputs": []
    },
    {
      "cell_type": "markdown",
      "source": [
        "We will narrow our study to minimum 10 day availabiltiy as the data above it is all the same and we cannot find any conclusions on that."
      ],
      "metadata": {
        "id": "WA5u5reXwZoF"
      }
    },
    {
      "cell_type": "code",
      "source": [
        "plt.figure(figsize=(20,10))\n",
        "sns.set(font_scale=2)\n",
        "sns.set(style=\"darkgrid\")\n",
        "\n",
        "data = df[df['availability_365']<=10]\n",
        "\n",
        "graph=sns.histplot(data=data,\n",
        "                   x=\"availability_365\",\n",
        "                   color = 'navy',\n",
        "                   bins = 10,\n",
        "                   kde=True)\n",
        "graph.set_title(\"Availability(<10days) vs Listings\",\n",
        "                size=25,\n",
        "                pad=12);\n"
      ],
      "metadata": {
        "id": "M5jjDt3JmI1g"
      },
      "execution_count": null,
      "outputs": []
    },
    {
      "cell_type": "markdown",
      "source": [
        "##### 1. Why did you pick the specific chart?"
      ],
      "metadata": {
        "id": "iky9q4vBYrdO"
      }
    },
    {
      "cell_type": "markdown",
      "source": [
        "Histogram is often used to illustrate the major features of the distribution of the data in a convenient form. It is also useful when dealing with large data sets (greater than 100 observations). It can help detect any unusual observations (outliers) or any gaps in the data."
      ],
      "metadata": {
        "id": "aJRCwT6DYrdO"
      }
    },
    {
      "cell_type": "markdown",
      "source": [
        "##### 2. What is/are the insight(s) found from the chart?"
      ],
      "metadata": {
        "id": "F6T5p64dYrdO"
      }
    },
    {
      "cell_type": "markdown",
      "source": [
        "We can see that majority of people prefer booking hotel with availability 1 day. \n",
        "A hotel for day-use is a very convenient solution for frequent travelers and businesspeople. That's why so many airport hotels offer daystays. Travelers can spend their transit time at a day-use hotel or simply book a dayroom for a stay between flights - an ideal way to relax."
      ],
      "metadata": {
        "id": "Xx8WAJvtYrdO"
      }
    },
    {
      "cell_type": "markdown",
      "source": [
        "##### 3. Will the gained insights help creating a positive business impact? \n",
        "Are there any insights that lead to negative growth? Justify with specific reason."
      ],
      "metadata": {
        "id": "y-Ehk30pYrdP"
      }
    },
    {
      "cell_type": "markdown",
      "source": [
        "New hotel owners and existing owners should focus that when listing new hotel they make minimum 1 day availabilty for better business."
      ],
      "metadata": {
        "id": "jLNxxz7MYrdP"
      }
    },
    {
      "cell_type": "markdown",
      "source": [
        "#### Chart - 5: **COUNTPLOT** on Minimum night stays"
      ],
      "metadata": {
        "id": "bamQiAODYuh1"
      }
    },
    {
      "cell_type": "code",
      "source": [
        "plt.figure(figsize=(20,10))\n",
        "sns.set(font_scale=2)\n",
        "sns.set(style=\"darkgrid\")\n",
        "\n",
        "graph=sns.histplot(data = df,\n",
        "                   x= \"minimum_nights\",\n",
        "                   color = 'navy',\n",
        "                   kde=True)\n",
        "graph.set_title(\"Minimum nights vs Frequency\",\n",
        "                size=25, pad=12);"
      ],
      "metadata": {
        "id": "TIJwrbroYuh3"
      },
      "execution_count": null,
      "outputs": []
    },
    {
      "cell_type": "markdown",
      "source": [
        "We will narrow our study to minimumn 10 nights only as the data above that is not clear and all the same."
      ],
      "metadata": {
        "id": "Weuab1RWxiS0"
      }
    },
    {
      "cell_type": "code",
      "source": [
        "plt.figure(figsize=(20,10))\n",
        "sns.set(style=\"darkgrid\")\n",
        "# sns.set(font_scale=2)\n",
        "\n",
        "data = df[df['minimum_nights']<=50]\n",
        "\n",
        "graph=sns.countplot(data=data,\n",
        "                    x=\"minimum_nights\",\n",
        "                    color = 'navy')\n",
        "graph.set_title(\"Minimum nights(<10nights) vs Frequency\",\n",
        "                size=25,\n",
        "                pad=12);\n"
      ],
      "metadata": {
        "id": "5OuMVlywwPDw"
      },
      "execution_count": null,
      "outputs": []
    },
    {
      "cell_type": "markdown",
      "source": [
        "##### 1. Why did you pick the specific chart?"
      ],
      "metadata": {
        "id": "QHF8YVU7Yuh3"
      }
    },
    {
      "cell_type": "markdown",
      "source": [
        "Countplot show the counts of observations in each categorical bin using bars. A count plot can be thought of as a histogram across a categorical, instead of quantitative, variable."
      ],
      "metadata": {
        "id": "dcxuIMRPYuh3"
      }
    },
    {
      "cell_type": "markdown",
      "source": [
        "##### 2. What is/are the insight(s) found from the chart?"
      ],
      "metadata": {
        "id": "GwzvFGzlYuh3"
      }
    },
    {
      "cell_type": "markdown",
      "source": [
        "We can see that majority of people prefer booking hotel with minimum 3 night stay ,also minimum 30 days is slighlty popular ."
      ],
      "metadata": {
        "id": "uyqkiB8YYuh3"
      }
    },
    {
      "cell_type": "markdown",
      "source": [
        "##### 3. Will the gained insights help creating a positive business impact? \n",
        "Are there any insights that lead to negative growth? Justify with specific reason."
      ],
      "metadata": {
        "id": "qYpmQ266Yuh3"
      }
    },
    {
      "cell_type": "markdown",
      "source": [
        "New hotel owners and existing owners should focus that when listing new hotel they make minimum 3 night stay for better business also theres a market for minimum 30 day stay so they should focus on that too."
      ],
      "metadata": {
        "id": "_WtzZ_hCYuh4"
      }
    },
    {
      "cell_type": "markdown",
      "source": [
        "#### Chart - 6: **BARPLOT** on Average night stays in different areas"
      ],
      "metadata": {
        "id": "OH-pJp9IphqM"
      }
    },
    {
      "cell_type": "markdown",
      "source": [
        "Data preparation for our barplot: Grouping the data with respect to Area and narrowing our data by minimum night people stay , then taking the mean of these minimum nights and then finally sorting this data with respect to the mean of the minimum night stays."
      ],
      "metadata": {
        "id": "Buro6SHS1nar"
      }
    },
    {
      "cell_type": "code",
      "source": [
        "min_stays_in_different_rooms= df.groupby('neighbourhood_group',as_index=False)['minimum_nights']\n",
        "min_stays_in_different_rooms= min_stays_in_different_rooms.mean()\n",
        "min_stays_in_different_rooms = min_stays_in_different_rooms.sort_values(['minimum_nights'],ascending = False)\n",
        "min_stays_in_different_rooms"
      ],
      "metadata": {
        "id": "kuRf4wtuphqN"
      },
      "execution_count": null,
      "outputs": []
    },
    {
      "cell_type": "code",
      "source": [
        "x_param3 =min_stays_in_different_rooms['minimum_nights']\n",
        "y_param3 =min_stays_in_different_rooms['neighbourhood_group']"
      ],
      "metadata": {
        "id": "Le99CQj80dnK"
      },
      "execution_count": null,
      "outputs": []
    },
    {
      "cell_type": "code",
      "source": [
        "plt.figure(figsize=(20,10))\n",
        "sns.set(font_scale=2)\n",
        "sns.set_style(\"darkgrid\")\n",
        "\n",
        "plt.xlabel('Minimum nights',size=25)\n",
        "plt.ylabel('Area',size=25)\n",
        "\n",
        "graph = sns.barplot(x = x_param3,\n",
        "                    y = y_param3 ,\n",
        "                    linewidth=2,\n",
        "                    color='#ff5252')\n",
        "\n",
        "graph.set_title(\"Area vs avg night stays\",\n",
        "                size=35, pad=12);"
      ],
      "metadata": {
        "id": "7uhPgTJn0ghY"
      },
      "execution_count": null,
      "outputs": []
    },
    {
      "cell_type": "markdown",
      "source": [
        "##### 1. Why did you pick the specific chart?"
      ],
      "metadata": {
        "id": "bbFf2-_FphqN"
      }
    },
    {
      "cell_type": "markdown",
      "source": [
        "The bar plots in this study visually describe the mean of a minimum night stays across different areas which acts as a categorical variable."
      ],
      "metadata": {
        "id": "loh7H2nzphqN"
      }
    },
    {
      "cell_type": "markdown",
      "source": [
        "##### 2. What is/are the insight(s) found from the chart?"
      ],
      "metadata": {
        "id": "_ouA3fa0phqN"
      }
    },
    {
      "cell_type": "markdown",
      "source": [
        "The mean of minimum night stays in Manhattan is the most according to our study which is approx. 8 followed by brooklyn which is 6 and rest three have almost 5 ."
      ],
      "metadata": {
        "id": "VECbqPI7phqN"
      }
    },
    {
      "cell_type": "markdown",
      "source": [
        "##### 3. Will the gained insights help creating a positive business impact? \n",
        "Are there any insights that lead to negative growth? Justify with specific reason."
      ],
      "metadata": {
        "id": "Seke61FWphqN"
      }
    },
    {
      "cell_type": "markdown",
      "source": [
        "The new hotel owners and existing owners should focus on manhattan as people prefer using hotel for a longer time here so they can make offers for more than minimum 8 night stays and similary they can do this for other areas too."
      ],
      "metadata": {
        "id": "DW4_bGpfphqN"
      }
    },
    {
      "cell_type": "markdown",
      "source": [
        "#### Chart - 7: **PIECHART** and **Histogram** on Price Range of Listings of hotel"
      ],
      "metadata": {
        "id": "PIIx-8_IphqN"
      }
    },
    {
      "cell_type": "code",
      "source": [
        "plt.figure(figsize=(20,10))\n",
        "\n",
        "sns.set(style=\"darkgrid\")\n",
        "\n",
        "sns.histplot(data = df, x= \"price\",color = 'navy', kde=True);"
      ],
      "metadata": {
        "id": "lqAIGUfyphqO"
      },
      "execution_count": null,
      "outputs": []
    },
    {
      "cell_type": "code",
      "source": [
        "df.price.max()"
      ],
      "metadata": {
        "id": "zEHHthwqPMZO"
      },
      "execution_count": null,
      "outputs": []
    },
    {
      "cell_type": "markdown",
      "source": [
        "As we can see that price of hotel more than $300 is not very popular so we will narrow our study to 300 as the the data above that is not very relevant. "
      ],
      "metadata": {
        "id": "L2zWa3f0RHsx"
      }
    },
    {
      "cell_type": "code",
      "source": [
        "plt.figure(figsize=(20,10))\n",
        "sns.set(style=\"darkgrid\")\n",
        "data4 = df[df['price']<=300]\n",
        "\n",
        "sns.histplot(data=data4,\n",
        "             x=\"price\",\n",
        "             color = 'navy',\n",
        "             bins = 100,\n",
        "             kde=True);\n"
      ],
      "metadata": {
        "id": "zzhMsSydPIb2"
      },
      "execution_count": null,
      "outputs": []
    },
    {
      "cell_type": "markdown",
      "source": [
        "We will use cut function to categorize the range of price , the bins we are choosing are 0,50,100,150,200,300,10000."
      ],
      "metadata": {
        "id": "FoJtTHMsRodJ"
      }
    },
    {
      "cell_type": "code",
      "source": [
        "category= pd.cut(data4.price,bins=[0,50,100,150,200,300,10000],labels=['0-50','50-100','100-150','150-200','200-300','300-10000'])\n",
        "df.insert(10,'price_range',category)"
      ],
      "metadata": {
        "id": "-a7WyfVYPRsC"
      },
      "execution_count": null,
      "outputs": []
    },
    {
      "cell_type": "code",
      "source": [
        "df.sample(10)"
      ],
      "metadata": {
        "id": "nH9QoiRhPUiF"
      },
      "execution_count": null,
      "outputs": []
    },
    {
      "cell_type": "code",
      "source": [
        "data = df['price_range'].value_counts() \n",
        "labels = ['very cheap', 'cheap','moderate','expensive','very expensive','super expensive']\n",
        "\n",
        "plt.figure(figsize=(20,10))\n",
        "colors = ['#ff6961',\"#ffb480\",\"#f8f38d\",'#42d6a4','#08cad1','#59adf6']\n",
        "explode=(0.01,0.01,0.01,0.01,0.01,0.5)\n",
        "\n",
        "plt.pie(data, labels = labels,\n",
        "        colors = colors,\n",
        "        autopct='%.2f%%',\n",
        "        explode=explode,\n",
        "        textprops={'fontsize': 15})\n",
        "\n",
        "plt.title('Pie chart on price range of hotels',\n",
        "          size=20,\n",
        "          loc='center',\n",
        "          pad=12)\n",
        "plt.legend(title='Price range in $',\n",
        "           loc='upper left',\n",
        "           labels=['0-50','50-100','100-150','150-200','200-300','300-10000']);"
      ],
      "metadata": {
        "id": "LUtTvcbZPW40"
      },
      "execution_count": null,
      "outputs": []
    },
    {
      "cell_type": "markdown",
      "source": [
        "##### 1. Why did you pick the specific chart?"
      ],
      "metadata": {
        "id": "t27r6nlMphqO"
      }
    },
    {
      "cell_type": "markdown",
      "source": [
        "Histogram- To illustrate the price range of hotel rooms of the data in convinent form."
      ],
      "metadata": {
        "id": "iv6ro40sphqO"
      }
    },
    {
      "cell_type": "markdown",
      "source": [
        "Pie chart- Usually, pie charts do not make sense for continuous data. Since continuous data are measured on a scale with many possible values, showing a parts-to-whole relationship does not make sense.\n",
        "But here to show the categorization of price range ,pie chart illustrates exactly what we need."
      ],
      "metadata": {
        "id": "kg7IDAfoSsuj"
      }
    },
    {
      "cell_type": "markdown",
      "source": [
        "##### 2. What is/are the insight(s) found from the chart?"
      ],
      "metadata": {
        "id": "r2jJGEOYphqO"
      }
    },
    {
      "cell_type": "markdown",
      "source": [
        "We can see that the most popular price range is the very cheap (0-50)category followed by cheap (50-100), moderate(100-150) and expensiver(150-200) are somewhere consist of same amount of data and very expensive (200-300) is the lesser than two above. The least popular category is super expensive (300-10000)."
      ],
      "metadata": {
        "id": "Po6ZPi4hphqO"
      }
    },
    {
      "cell_type": "markdown",
      "source": [
        "##### 3. Will the gained insights help creating a positive business impact? \n",
        "Are there any insights that lead to negative growth? Justify with specific reason."
      ],
      "metadata": {
        "id": "b0JNsNcRphqO"
      }
    },
    {
      "cell_type": "markdown",
      "source": [
        "New hotel owners and existing owners should focus on very cheap , cheap , moderate , expensive category as people are more interested in that category because obviously people want cheap rooms as possible. The least priority should be the super expensive as very low people are interested in it."
      ],
      "metadata": {
        "id": "xvSq8iUTphqO"
      }
    },
    {
      "cell_type": "markdown",
      "source": [
        "#### Chart - 8: **BARPLOT** on price of room type wrt Area"
      ],
      "metadata": {
        "id": "BZR9WyysphqO"
      }
    },
    {
      "cell_type": "code",
      "source": [
        "plt.figure(figsize=(20,10))\n",
        "sns.set(font_scale=2)\n",
        "sns.set_style(\"darkgrid\")\n",
        "\n",
        "graph= sns.barplot(x = 'neighbourhood_group',\n",
        "            y='price',\n",
        "            hue = 'room_type',\n",
        "            data = df,\n",
        "            palette = \"tab10\")\n",
        "graph.set_title(\"Price of room type wrt Area\",\n",
        "                size=35,\n",
        "                pad=12);\n",
        "  "
      ],
      "metadata": {
        "id": "TdPTWpAVphqO"
      },
      "execution_count": null,
      "outputs": []
    },
    {
      "cell_type": "markdown",
      "source": [
        "##### 1. Why did you pick the specific chart?"
      ],
      "metadata": {
        "id": "jj7wYXLtphqO"
      }
    },
    {
      "cell_type": "markdown",
      "source": [
        "A grouped bar chart is used when you want to look at how the second category variable changes within each level of the first, or when you want to look at how the first category variable changes across levels of the second."
      ],
      "metadata": {
        "id": "Ob8u6rCTphqO"
      }
    },
    {
      "cell_type": "markdown",
      "source": [
        "##### 2. What is/are the insight(s) found from the chart?"
      ],
      "metadata": {
        "id": "eZrbJ2SmphqO"
      }
    },
    {
      "cell_type": "markdown",
      "source": [
        "We can see that in every area Enire home/apt is more preferred by the people followed by Private room and the least preferred is shared room but in queens and staten island people prefer almost equally private room and shared room."
      ],
      "metadata": {
        "id": "mZtgC_hjphqO"
      }
    },
    {
      "cell_type": "markdown",
      "source": [
        "##### 3. Will the gained insights help creating a positive business impact? \n",
        "Are there any insights that lead to negative growth? Justify with specific reason."
      ],
      "metadata": {
        "id": "rFu4xreNphqO"
      }
    },
    {
      "cell_type": "markdown",
      "source": [
        "It is clear from the chart that entire home/apt is most popular so new owners and existing owners of hostel should focus on that for every area."
      ],
      "metadata": {
        "id": "ey_0qi68phqO"
      }
    },
    {
      "cell_type": "markdown",
      "source": [
        "#### Chart - 9: **BARPLOT** on Top 10 most expensive neighbourhoods"
      ],
      "metadata": {
        "id": "YJ55k-q6phqO"
      }
    },
    {
      "cell_type": "code",
      "source": [
        "top_10_expensive_neighbourhood= df.groupby(['neighbourhood'],as_index=False)['price']\n",
        "top_10_expensive_neighbourhood= top_10_expensive_neighbourhood.mean()\n",
        "top_10_expensive_neighbourhood = top_10_expensive_neighbourhood.sort_values(['price'],ascending = False)[:10]\n",
        "top_10_expensive_neighbourhood"
      ],
      "metadata": {
        "id": "B2aS4O1ophqO"
      },
      "execution_count": null,
      "outputs": []
    },
    {
      "cell_type": "code",
      "source": [
        "x_param4 =top_10_expensive_neighbourhood['neighbourhood']\n",
        "y_param4 =top_10_expensive_neighbourhood['price']"
      ],
      "metadata": {
        "id": "10xHKsharPRG"
      },
      "execution_count": null,
      "outputs": []
    },
    {
      "cell_type": "code",
      "source": [
        "plt.figure(figsize=(20,10))\n",
        "sns.set(font_scale=2)\n",
        "\n",
        "\n",
        "graph = sns.barplot(x = x_param4,\n",
        "                    y = y_param4 ,\n",
        "                    linewidth=2,\n",
        "                    palette= \"tab10\")\n",
        "\n",
        "graph.set_title(\"Top 10 expensive locations\",\n",
        "                size=35,\n",
        "                pad=12)\n",
        "graph.set_xticklabels(graph.get_xticklabels(),\n",
        "                      rotation= 45,\n",
        "                      horizontalalignment='right');"
      ],
      "metadata": {
        "id": "yA7Vc4e3rWlV"
      },
      "execution_count": null,
      "outputs": []
    },
    {
      "cell_type": "markdown",
      "source": [
        "##### 1. Why did you pick the specific chart?"
      ],
      "metadata": {
        "id": "gCFgpxoyphqP"
      }
    },
    {
      "cell_type": "markdown",
      "source": [
        "Bar charts make sense for categorical or nominal data, since they are measured on a scale with specific possible values. With categorical data, the sample is often divided into groups, and the responses have a defined order. "
      ],
      "metadata": {
        "id": "TVxDimi2phqP"
      }
    },
    {
      "cell_type": "markdown",
      "source": [
        "##### 2. What is/are the insight(s) found from the chart?"
      ],
      "metadata": {
        "id": "OVtJsKN_phqQ"
      }
    },
    {
      "cell_type": "markdown",
      "source": [
        "From the above chart we know that top 10 expensive locations are Fort Wadsworth , woodrow , Tribeca , Sea Gate , riverdale , Princes Bay ,Battery Park City , Flatiron District , Randall Manor , NoHo in this order."
      ],
      "metadata": {
        "id": "ngGi97qjphqQ"
      }
    },
    {
      "cell_type": "markdown",
      "source": [
        "#### Chart - 10: **BARPLOT** on Top 10 most cheapest neighbourhoods"
      ],
      "metadata": {
        "id": "U2RJ9gkRphqQ"
      }
    },
    {
      "cell_type": "code",
      "source": [
        "top_10_cheapest_neighbourhood= df.groupby(['neighbourhood'],as_index=False)['price']\n",
        "top_10_cheapest_neighbourhood= top_10_cheapest_neighbourhood.mean()\n",
        "top_10_cheapest_neighbourhood = top_10_cheapest_neighbourhood.sort_values(['price'],ascending = True)[:10]\n",
        "top_10_cheapest_neighbourhood"
      ],
      "metadata": {
        "id": "GM7a4YP4phqQ"
      },
      "execution_count": null,
      "outputs": []
    },
    {
      "cell_type": "code",
      "source": [
        "x_param5 =top_10_cheapest_neighbourhood['neighbourhood']\n",
        "y_param5 =top_10_cheapest_neighbourhood['price']"
      ],
      "metadata": {
        "id": "7gAnIHY_tqNF"
      },
      "execution_count": null,
      "outputs": []
    },
    {
      "cell_type": "code",
      "source": [
        "plt.figure(figsize=(20,10))\n",
        "sns.set(font_scale=2)\n",
        "\n",
        "graph = sns.barplot(x = x_param5,\n",
        "                    y = y_param5 ,\n",
        "                    linewidth=2,\n",
        "                    palette= \"tab10\")\n",
        "\n",
        "graph.set_title(\"Top 10 cheapest Locations\",\n",
        "                size=35,\n",
        "                pad=12)\n",
        "graph.set_xticklabels(graph.get_xticklabels(),\n",
        "                      rotation= 45,\n",
        "                      horizontalalignment='right',);"
      ],
      "metadata": {
        "id": "aD1hOKFkttq8"
      },
      "execution_count": null,
      "outputs": []
    },
    {
      "cell_type": "markdown",
      "source": [
        "##### 1. Why did you pick the specific chart?"
      ],
      "metadata": {
        "id": "1M8mcRywphqQ"
      }
    },
    {
      "cell_type": "markdown",
      "source": [
        "Bar charts make sense for categorical or nominal data, since they are measured on a scale with specific possible values. With categorical data, the sample is often divided into groups, and the responses have a defined order."
      ],
      "metadata": {
        "id": "8agQvks0phqQ"
      }
    },
    {
      "cell_type": "markdown",
      "source": [
        "##### 2. What is/are the insight(s) found from the chart?"
      ],
      "metadata": {
        "id": "tgIPom80phqQ"
      }
    },
    {
      "cell_type": "markdown",
      "source": [
        "From the above chart we know that top 10 cheapest locations are Bulls Head, Hunts Point, Tremont, Soundview, New drop, Bronxdale, New Dorp Beach, Grant City, Concord, Mount Eden in this order."
      ],
      "metadata": {
        "id": "Qp13pnNzphqQ"
      }
    },
    {
      "cell_type": "markdown",
      "source": [
        "#### Chart - 11: **SCATTERPLOT** for Geographic analysis"
      ],
      "metadata": {
        "id": "x-EpHcCOp1ci"
      }
    },
    {
      "cell_type": "code",
      "source": [
        "plt.figure(figsize=(20,10))\n",
        "\n",
        "fig = sns.scatterplot(data=df,\n",
        "                      y='longitude',\n",
        "                      x='latitude',\n",
        "                      hue='neighbourhood_group',\n",
        "                      s=100)\n",
        "fig.set_title(\"Map of Newyork wrt listings in different area\",\n",
        "              size=30, pad=12);\n"
      ],
      "metadata": {
        "id": "mAQTIvtqp1cj"
      },
      "execution_count": null,
      "outputs": []
    },
    {
      "cell_type": "code",
      "source": [
        "plt.figure(figsize=(20,10))\n",
        "\n",
        "fig = sns.scatterplot(data=df,\n",
        "                      y='longitude',\n",
        "                      x='latitude',\n",
        "                      hue='room_type',\n",
        "                      s=100)\n",
        "fig.set_title(\"Map of Newyork wrt different room types\",size=35, pad=12);\n"
      ],
      "metadata": {
        "id": "R2YtitH-ebvt"
      },
      "execution_count": null,
      "outputs": []
    },
    {
      "cell_type": "code",
      "source": [
        "plt.figure(figsize=(20,10))\n",
        "\n",
        "fig = sns.scatterplot(data=df,\n",
        "                      y='longitude',\n",
        "                      x='latitude',\n",
        "                      hue='availability_365',\n",
        "                      s=100,\n",
        "                      palette=\"YlOrBr\")\n",
        "fig.set_title(\"Map of Newyork wrt availabilty of room(days)\",size=35, pad=12);\n"
      ],
      "metadata": {
        "id": "I8hlMO24fjXY"
      },
      "execution_count": null,
      "outputs": []
    },
    {
      "cell_type": "code",
      "source": [
        "plt.figure(figsize=(20,10))\n",
        "\n",
        "df_plot = df.loc[df.price <= 300]\n",
        "\n",
        "fig = sns.scatterplot(data=df_plot,\n",
        "                      y='longitude',\n",
        "                      x='latitude',\n",
        "                      size='price',\n",
        "                      hue='price',\n",
        "                      s=100)\n",
        "fig.set_title(\"Map of Newyork wrt price of room (less than $300)\",size=35, pad=12);\n"
      ],
      "metadata": {
        "id": "Uh5wNFTQjsaR"
      },
      "execution_count": null,
      "outputs": []
    },
    {
      "cell_type": "code",
      "source": [
        "plt.figure(figsize=(20,10))\n",
        "\n",
        "df_plot = df.loc[df.price > 300]\n",
        "\n",
        "fig = sns.scatterplot(data=df_plot,\n",
        "                      y='longitude',\n",
        "                      x='latitude',\n",
        "                      hue='price',\n",
        "                      palette= \"hls\",\n",
        "                      s=100)\n",
        "fig.set_title(\"Map of Newyork wrt price of room (more than $300)\",size=35, pad=12);\n"
      ],
      "metadata": {
        "id": "bFi95V4ukOX-"
      },
      "execution_count": null,
      "outputs": []
    },
    {
      "cell_type": "markdown",
      "source": [
        "##### 1. Why did you pick the specific chart?"
      ],
      "metadata": {
        "id": "X_VqEhTip1ck"
      }
    },
    {
      "cell_type": "markdown",
      "source": [
        "Scatterplots separate the data from the spatial element of the map, in order to make a clearer picture of the relationships between the data. When incorporated into the map legend, scatterplots offer an additional perspective by visualizing the data patterns."
      ],
      "metadata": {
        "id": "-vsMzt_np1ck"
      }
    },
    {
      "cell_type": "markdown",
      "source": [
        "##### 2. What is/are the insight(s) found from the chart?"
      ],
      "metadata": {
        "id": "8zGJKyg5p1ck"
      }
    },
    {
      "cell_type": "markdown",
      "source": [
        "From the above analysis and all the charts we have clear picture of hotel listings in different part of new york, different room types in new york ,availabilty of rooms in new york and price of the hotels in new york."
      ],
      "metadata": {
        "id": "ZYdMsrqVp1ck"
      }
    },
    {
      "cell_type": "markdown",
      "source": [
        "##### 3. Will the gained insights help creating a positive business impact? \n",
        "Are there any insights that lead to negative growth? Justify with specific reason."
      ],
      "metadata": {
        "id": "PVzmfK_Ep1ck"
      }
    },
    {
      "cell_type": "markdown",
      "source": [
        "New hotel owners and the existing ones can have clear mindset after referring the above chart and study to where should they deploy their business."
      ],
      "metadata": {
        "id": "druuKYZpp1ck"
      }
    },
    {
      "cell_type": "markdown",
      "source": [
        "#### Chart - 12 - Correlation **Heatmap**"
      ],
      "metadata": {
        "id": "NC_X3p0fY2L0"
      }
    },
    {
      "cell_type": "code",
      "source": [
        "plt.figure(figsize=(20,10))\n",
        "heatmap = sns.heatmap(df.corr(), cmap=\"YlGnBu\", annot=True)\n",
        "\n",
        "heatmap.set_title('Correlation Heatmap',\n",
        "                  fontdict={'fontsize':30},\n",
        "                  pad=12);"
      ],
      "metadata": {
        "id": "wEnPWilpqRhr"
      },
      "execution_count": null,
      "outputs": []
    },
    {
      "cell_type": "markdown",
      "source": [
        "##### 1. Why did you pick the specific chart?"
      ],
      "metadata": {
        "id": "UV0SzAkaZNRQ"
      }
    },
    {
      "cell_type": "markdown",
      "source": [
        "A correlation matrix is a table showing correlation coefficients between variables. Each cell in the table shows the correlation between two variables. A correlation matrix is used to summarize data, as an input into a more advanced analysis, and as a diagnostic for advanced analyses. The range of correlation is [-1,1].\n",
        "\n",
        "Thus to know the correlation between all the variables along with the correlation coeficients, i used correlation heatmap."
      ],
      "metadata": {
        "id": "DVPuT8LYZNRQ"
      }
    },
    {
      "cell_type": "markdown",
      "source": [
        "##### 2. What is/are the insight(s) found from the chart?"
      ],
      "metadata": {
        "id": "YPEH6qLeZNRQ"
      }
    },
    {
      "cell_type": "markdown",
      "source": [
        "We can see that id and host_id are highly positively correlated with value 0.59 and number of reviews and reveiws per mont are highly pistively correlated with value 0.55."
      ],
      "metadata": {
        "id": "bfSqtnDqZNRR"
      }
    },
    {
      "cell_type": "markdown",
      "source": [
        "## **5. Solution to Business Objective**"
      ],
      "metadata": {
        "id": "JcMwzZxoAimU"
      }
    },
    {
      "cell_type": "markdown",
      "source": [
        "#### What do you suggest the client to achieve Business Objective ? \n",
        "Explain Briefly."
      ],
      "metadata": {
        "id": "8G2x9gOozGDZ"
      }
    },
    {
      "cell_type": "markdown",
      "source": [
        "As per business point of view Hotel business men should see that Entire home/apt and private room is more in demand and the shared room is the least, The popular areas for hotel booking are manhattan and brooklyn and the most popular location for hotel booking is Williamsberg so clients should focus on these areas.\n",
        "The minimum nights to stay at the hotel should be as low as possible and the most popular figure turns out to be one minimum night stay.\n",
        "The average night stays in manhattan is approx 8 days which is the most among other areas and so the client should take advantage of these figures and assign the prices of the room accordingly.\n",
        "The most popular price range for people to book hotel is 0-50 dollars and 50-100 dollars so clients put up the listings of these category more.\n",
        "The most expensive location for hotel listing is Fort wadsworth so client can build luxury hotel rooms here as people are ready to pay the price in this location.\n",
        "The most cheapes location for hotel listing is Bulls head so client can build cheap hotel rooms here as people prefer paying less here.\n",
        "Clients should also take note of the Geographic analysis of the new york before building new hotels or listinn a new room.\n"
      ],
      "metadata": {
        "id": "pASKb0qOza21"
      }
    },
    {
      "cell_type": "markdown",
      "source": [
        "# **Conclusion**"
      ],
      "metadata": {
        "id": "gCX9965dhzqZ"
      }
    },
    {
      "cell_type": "markdown",
      "source": [
        "*   The most Popular room type is Entire home/pvt room.\n",
        "*   The most popular area for the hotel listing is Manhattan.\n",
        "*   The most popular location for hotel listing is Williamsberg\n",
        "*   Availability of the room can be low as 1 day as.\n",
        "*   The poular figure of Minimum night stays for the hotel is 1 day.\n",
        "*   The average night stay in manhattan is approx 8 nights , followed by brooklyn which is 6 nights then queens, staten island and bronx have approx 5 nights.\n",
        "*   The most popular price range for hotel booking 0 to 50 dollars.\n",
        "*   Entire home/apt is the most popular room type in every area.\n",
        "*   The most expensive location to book a hotel is Fort wadsworth\n",
        "*   The most cheapest location to book a hotel is Bulls head.\n",
        "\n",
        "\n",
        "\n"
      ],
      "metadata": {
        "id": "Fjb1IsQkh3yE"
      }
    },
    {
      "cell_type": "markdown",
      "source": [
        "### ***Hurrah! You have successfully completed your EDA Capstone Project !!!***"
      ],
      "metadata": {
        "id": "gIfDvo9L0UH2"
      }
    }
  ]
}